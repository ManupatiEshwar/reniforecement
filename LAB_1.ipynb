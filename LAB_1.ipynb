{
  "nbformat": 4,
  "nbformat_minor": 0,
  "metadata": {
    "colab": {
      "provenance": [],
      "toc_visible": true,
      "authorship_tag": "ABX9TyOJDNyYSrW/CPL7UNlbo4wa",
      "include_colab_link": true
    },
    "kernelspec": {
      "name": "python3",
      "display_name": "Python 3"
    },
    "language_info": {
      "name": "python"
    }
  },
  "cells": [
    {
      "cell_type": "markdown",
      "metadata": {
        "id": "view-in-github",
        "colab_type": "text"
      },
      "source": [
        "<a href=\"https://colab.research.google.com/github/ManupatiEshwar/reniforecement/blob/main/LAB_1.ipynb\" target=\"_parent\"><img src=\"https://colab.research.google.com/assets/colab-badge.svg\" alt=\"Open In Colab\"/></a>"
      ]
    },
    {
      "cell_type": "code",
      "source": [
        "\n",
        "!pip3 install gymnasium[classic_control] --quiet\n",
        "\n",
        "import gymnasium as gym\n",
        "import numpy as np\n",
        "import matplotlib.pyplot as plt\n",
        "\n",
        "\n",
        "env = gym.make(\"FrozenLake-v1\", is_slippery=False)\n",
        "env = env.unwrapped\n",
        "\n",
        "n_states = env.observation_space.n\n",
        "n_actions = env.action_space.n\n",
        "gamma = 0.99\n",
        "theta = 1e-8\n",
        "\n",
        "# ---------------------- Value Iteration ----------------------\n",
        "def value_iteration(env):\n",
        "    V = np.zeros(n_states)\n",
        "    while True:\n",
        "        delta = 0\n",
        "        for s in range(n_states):\n",
        "            q_values = []\n",
        "            for a in range(n_actions):\n",
        "                q = 0\n",
        "                for prob, next_state, reward, done in env.P[s][a]:\n",
        "                    q += prob * (reward + gamma * V[next_state])\n",
        "                q_values.append(q)\n",
        "            max_q = max(q_values)\n",
        "            delta = max(delta, abs(V[s] - max_q))\n",
        "            V[s] = max_q\n",
        "        if delta < theta:\n",
        "            break\n",
        "\n",
        "    policy = np.zeros(n_states, dtype=int)\n",
        "    for s in range(n_states):\n",
        "        q_values = []\n",
        "        for a in range(n_actions):\n",
        "            q = 0\n",
        "            for prob, next_state, reward, done in env.P[s][a]:\n",
        "                q += prob * (reward + gamma * V[next_state])\n",
        "            q_values.append(q)\n",
        "        policy[s] = np.argmax(q_values)\n",
        "    return policy, V\n",
        "\n",
        "# ---------------------- Policy Iteration ----------------------\n",
        "def policy_iteration(env):\n",
        "    policy = np.zeros(n_states, dtype=int)\n",
        "    V = np.zeros(n_states)\n",
        "\n",
        "    while True:\n",
        "        # Policy Evaluation\n",
        "        while True:\n",
        "            delta = 0\n",
        "            for s in range(n_states):\n",
        "                v = 0\n",
        "                a = policy[s]\n",
        "                for prob, next_state, reward, done in env.P[s][a]:\n",
        "                    v += prob * (reward + gamma * V[next_state])\n",
        "                delta = max(delta, abs(V[s] - v))\n",
        "                V[s] = v\n",
        "            if delta < theta:\n",
        "                break\n",
        "\n",
        "        # Policy Improvement\n",
        "        policy_stable = True\n",
        "        for s in range(n_states):\n",
        "            old_action = policy[s]\n",
        "            q_values = []\n",
        "            for a in range(n_actions):\n",
        "                q = 0\n",
        "                for prob, next_state, reward, done in env.P[s][a]:\n",
        "                    q += prob * (reward + gamma * V[next_state])\n",
        "                q_values.append(q)\n",
        "            new_action = np.argmax(q_values)\n",
        "            policy[s] = new_action\n",
        "            if old_action != new_action:\n",
        "                policy_stable = False\n",
        "\n",
        "        if policy_stable:\n",
        "            break\n",
        "\n",
        "    return policy, V\n",
        "\n",
        "# ---------------------- Run Policy ----------------------\n",
        "def run_policy(env, policy, render=False):\n",
        "    total_rewards = 0\n",
        "    state, _ = env.reset()\n",
        "    while True:\n",
        "        if render:\n",
        "            env.render()\n",
        "        action = policy[state]\n",
        "        state, reward, terminated, truncated, _ = env.step(action)\n",
        "        total_rewards += reward\n",
        "        if terminated or truncated:\n",
        "            break\n",
        "    return total_rewards\n",
        "\n",
        "# ---------------------- Run Experiments ----------------------\n",
        "vi_policy, vi_V = value_iteration(env)\n",
        "vi_rewards = [run_policy(env, vi_policy) for _ in range(100)]\n",
        "print(\"✅ Value Iteration - Average Reward over 100 episodes:\", np.mean(vi_rewards))\n",
        "\n",
        "pi_policy, pi_V = policy_iteration(env)\n",
        "pi_rewards = [run_policy(env, pi_policy) for _ in range(100)]\n",
        "print(\"✅ Policy Iteration - Average Reward over 100 episodes:\", np.mean(pi_rewards))\n",
        "\n",
        "# ---------------------- Plot Results ----------------------\n",
        "plt.plot(vi_rewards, label='Value Iteration')\n",
        "plt.plot(pi_rewards, label='Policy Iteration')\n",
        "plt.xlabel(\"Episode\")\n",
        "plt.ylabel(\"Reward\")\n",
        "plt.title(\"Reward Comparison (FrozenLake)\")\n",
        "plt.legend()\n",
        "plt.grid(True)\n",
        "plt.show()\n"
      ],
      "metadata": {
        "colab": {
          "base_uri": "https://localhost:8080/",
          "height": 508
        },
        "id": "0FEs0-bH2YR9",
        "outputId": "1ad579ec-7ae3-4fa4-ea94-cee63dff3cef"
      },
      "execution_count": null,
      "outputs": [
        {
          "output_type": "stream",
          "name": "stdout",
          "text": [
            "✅ Value Iteration - Average Reward over 100 episodes: 1.0\n",
            "✅ Policy Iteration - Average Reward over 100 episodes: 1.0\n"
          ]
        },
        {
          "output_type": "display_data",
          "data": {
            "text/plain": [
              "<Figure size 640x480 with 1 Axes>"
            ],
            "image/png": "[encoded data removed]"
          },
          "metadata": {}
        }
      ]
    }
  ]
}